{
 "cells": [
  {
   "cell_type": "code",
   "execution_count": 121,
   "metadata": {
    "collapsed": true
   },
   "outputs": [],
   "source": [
    "import numpy as np\n",
    "import scipy.special\n",
    "import matplotlib.pyplot\n",
    "%matplotlib inline"
   ]
  },
  {
   "cell_type": "code",
   "execution_count": 122,
   "metadata": {
    "collapsed": true
   },
   "outputs": [],
   "source": [
    "class NeuralNetwork:\n",
    "    \n",
    "    def __init__(self, inputnodes, hiddennodes, outputnodes, learningrate):\n",
    "        \n",
    "        #入力層、隠れ層、出力層のノード数の設定\n",
    "        self.inodes = inputnodes\n",
    "        self.hnodes = hiddennodes\n",
    "        self.onodes = outputnodes\n",
    "        \n",
    "        #リンクの重み行列 wih , who\n",
    "        #行列内の重み w_i_j, ノードiから次の層のノードj へのリンクの重み\n",
    "        # w11 w21\n",
    "        # w12 w22\n",
    "        self.wih = np.random.normal(0.0, pow(self.inodes, -0.5), (self.hnodes, self.inodes))\n",
    "        self.who = np.random.normal(0.0, pow(self.hnodes, -0.5), (self.onodes, self.hnodes))\n",
    "        #元のコード 上は平均が0で、標準偏差を入ってくるリンクの数の平方根の逆数とした正規分布\n",
    "        #self.wih = np.random.rand(self.hnodes, self.inodes) - 0.5\n",
    "        #self.who = np.random.rand(self.onodes, self.hnodes) - 0.5\n",
    "        \n",
    "        #学習率\n",
    "        self.lr = learningrate\n",
    "        \n",
    "        #活性化関数はシグモイド関数\n",
    "        self.activation_function = lambda x: scipy.special.expit(x)\n",
    "        \n",
    "        pass\n",
    "    \n",
    "    #ニューラルネットワークの学習\n",
    "    def train(self, inputs_list, targets_list):\n",
    "        #入力リストを行列に変換\n",
    "        inputs = np.array(inputs_list, ndmin=2).T\n",
    "        targets = np.array(targets_list, ndmin=2).T\n",
    "        \n",
    "        #隠れ層に入ってくる信号の計算\n",
    "        hidden_inputs = np.dot(self.wih, inputs)\n",
    "        # calculate the signals emerging from hidden layer\n",
    "        hidden_outputs = self.activation_function(hidden_inputs)\n",
    "        \n",
    "        # calculate signals into final output layer\n",
    "        final_inputs = np.dot(self.who, hidden_outputs)\n",
    "        final_outputs = self.activation_function(final_inputs)\n",
    "        #ここまではqueryと同じ\n",
    "        \n",
    "        \n",
    "        #出力層の誤差= 目標出力-最終出力\n",
    "        output_errors = targets - final_outputs\n",
    "        #隠れ層の誤差は出力層の誤差をリンクの重みの割合で分配\n",
    "        hidden_errors = np.dot(self.who.T, output_errors)\n",
    "        \n",
    "        #隠れ層と出力層の間のリンクの重みを更新\n",
    "        self.who += self.lr * np.dot((output_errors * final_outputs * (1.0 - final_inputs)), np.transpose(hidden_outputs))\n",
    "        #入力層と隠れ層の間のリンクの重みを更新\n",
    "        self.wih += self.lr * np.dot((hidden_errors * hidden_outputs * (1.0 - hidden_outputs)), np.transpose(inputs))\n",
    "        \n",
    "        pass\n",
    "    \n",
    "    # ニューラルネットワークへの照会\n",
    "    def query(self, inputs_list):\n",
    "        #入力リストを行列に変換\n",
    "        inputs = np.array(inputs_list, ndmin=2).T\n",
    "        \n",
    "        #隠れ層に入ってくる信号の計算\n",
    "        hidden_inputs = np.dot(self.wih, inputs)\n",
    "        #隠れ層で結合された信号を活性化関数により出力\n",
    "        hidden_outputs = self.activation_function(hidden_inputs)\n",
    "        \n",
    "        #出力層に入ってくる信号の計算\n",
    "        final_inputs = np.dot(self.who, hidden_outputs)\n",
    "        #出力層で結合された信号を活性化関数により出力\n",
    "        final_outputs = self.activation_function(final_inputs)\n",
    "        \n",
    "        return final_outputs"
   ]
  },
  {
   "cell_type": "code",
   "execution_count": 123,
   "metadata": {
    "collapsed": false
   },
   "outputs": [],
   "source": [
    "# 入力層、隠れ層、出力層のノード数\n",
    "input_nodes = 784\n",
    "hidden_nodes = 200 #10〜784の間の適当な数字\n",
    "output_nodes = 10\n",
    "\n",
    "# 学習率 \n",
    "learning_rate = 0.1\n",
    "\n",
    "#ニューラルネットワークのインスタンスの生成\n",
    "n = NeuralNetwork(input_nodes, hidden_nodes, output_nodes, learning_rate)"
   ]
  },
  {
   "cell_type": "code",
   "execution_count": null,
   "metadata": {
    "collapsed": true
   },
   "outputs": [],
   "source": [
    "# MNIST訓練データのCSV　ファイルを読み込んでリストにする\n",
    "training_data_file = open(\"mnist_dataset/mnist_train.csv\",'r')\n",
    "training_data_list = training_data_file.readlines()\n",
    "training_data_file.close()"
   ]
  },
  {
   "cell_type": "code",
   "execution_count": null,
   "metadata": {
    "collapsed": true
   },
   "outputs": [],
   "source": [
    "#ニューラルネットワークの学習\n",
    "\n",
    "#エポック数\n",
    "epoches = 5\n",
    "\n",
    "#訓練データの全データに対して実行\n",
    "for e in range(epoches):\n",
    "    for record in training_data_list:\n",
    "        #データをコンマでsplit\n",
    "        all_values = record.split(',')\n",
    "        # 入力値のスケーリングとシフト\n",
    "        inputs = (np.asfarray(all_values[1:]) / 255.0 * 0.99) + 0.01\n",
    "        # 目標配列の生成（ラベルの位置が0.99　残りは0.01）\n",
    "        targets = np.zeros(output_nodes) + 0.01\n",
    "        # all_values[0]はこのデータのラベル\n",
    "        targets[int(all_values[0])] = 0.99\n",
    "        n.train(inputs, targets)\n",
    "        pass\n",
    "    pass\n",
    "\n"
   ]
  },
  {
   "cell_type": "code",
   "execution_count": null,
   "metadata": {
    "collapsed": true
   },
   "outputs": [],
   "source": [
    "# MNIST テストデータのCSV ファイルを読み込んでリストにする\n",
    "test_data_file = open(\"mnist_dataset/mnist_test.csv\",'r')\n",
    "test_data_list = test_data_file.readlines()\n",
    "test_data_file.close()"
   ]
  },
  {
   "cell_type": "code",
   "execution_count": null,
   "metadata": {
    "collapsed": false
   },
   "outputs": [],
   "source": [
    "#テストデータ\n",
    "all_values = test_data_list[0].split(',')\n",
    "print(all_values[0])\n",
    "\n",
    "image_array = np.asfarray(all_values[1:]).reshape((28,28))\n",
    "matplotlib.pyplot.imshow(image_array, cmap='Greys', interpolation='None')"
   ]
  },
  {
   "cell_type": "code",
   "execution_count": null,
   "metadata": {
    "collapsed": false
   },
   "outputs": [],
   "source": [
    "#判定\n",
    "n.query((np.asfarray(all_values[1:])/255.0 * 0.99) + 0.01)"
   ]
  },
  {
   "cell_type": "code",
   "execution_count": null,
   "metadata": {
    "collapsed": false,
    "scrolled": false
   },
   "outputs": [],
   "source": [
    "# ニューラルネットワークのテスト\n",
    "\n",
    "#scorecardは判定のリスト、最初は空\n",
    "scorecard = []\n",
    "\n",
    "for record in test_data_list:\n",
    "    all_values = record.split(',')\n",
    "    #正解は1番目\n",
    "    correct_label = int(all_values[0])\n",
    "#     print(correct_label, \"correct label\")\n",
    "    \n",
    "    inputs = (np.asfarray(all_values[1:])　/　255.0 * 0.99) + 0.01\n",
    "    #照会\n",
    "    outputs = n.query(inputs)\n",
    "    #最大値のインデックスがラベルに対応\n",
    "    label = np.argmax(outputs)\n",
    "#     print(label, \"network's answer\")\n",
    "    \n",
    "    #正解(1) 間違い(0) リストに追加\n",
    "    if (label == correct_label):\n",
    "        scorecard.append(1)\n",
    "    else:\n",
    "        scorecard.append(0)\n",
    "        pass\n",
    "    \n",
    "    pass\n",
    "\n",
    "            "
   ]
  },
  {
   "cell_type": "code",
   "execution_count": null,
   "metadata": {
    "collapsed": false
   },
   "outputs": [],
   "source": [
    "# print(scorecard)\n",
    "#10個のうち1が正解の数。"
   ]
  },
  {
   "cell_type": "code",
   "execution_count": null,
   "metadata": {
    "collapsed": false
   },
   "outputs": [],
   "source": [
    "# 評価値の計算\n",
    "scorecard_array = np.array(scorecard)\n",
    "print(\"performance = \", scorecard_array.sum() / scorecard_array.size)\n",
    "\n",
    "print(\"performance = \", scorecard_array.sum() / scorecard_array.size * 100, \"%\")\n"
   ]
  },
  {
   "cell_type": "markdown",
   "metadata": {},
   "source": [
    "### 完全データ・セットによる学習とテスト"
   ]
  },
  {
   "cell_type": "code",
   "execution_count": null,
   "metadata": {
    "collapsed": true
   },
   "outputs": [],
   "source": [
    "# hidden_layers, learning_rate, epoch_count\n",
    "# 100, 0.3, 1 -> 8.92%\n",
    "# 100, 0.1, 1 -> 93.8 %\n",
    "# 100, 0.1, 2 ->  94.27%\n",
    "# 100, 0.1, 5 ->  10.09%\n",
    "# 200, 0.1, 5 ->  8.92 %"
   ]
  }
 ],
 "metadata": {
  "kernelspec": {
   "display_name": "Python 3",
   "language": "python",
   "name": "python3"
  },
  "language_info": {
   "codemirror_mode": {
    "name": "ipython",
    "version": 3
   },
   "file_extension": ".py",
   "mimetype": "text/x-python",
   "name": "python",
   "nbconvert_exporter": "python",
   "pygments_lexer": "ipython3",
   "version": "3.6.0"
  }
 },
 "nbformat": 4,
 "nbformat_minor": 2
}
